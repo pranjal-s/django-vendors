{
 "cells": [
  {
   "cell_type": "markdown",
   "metadata": {},
   "source": [
    "## Summary\n",
    "\n",
    "### vendor's item data\n",
    "| Item | OverallQual (0-10) | GrLivArea (sq.ft.) | SaleType |\n",
    "| --- | --- | --- | --- |\n",
    "| A | 7 | 1717 | Family |\n",
    "| B | 5 | 1500 | Normal |\n",
    "| C | 6 | 2500 | AdjLand |\n",
    "\n",
    "### pricing obtained via pre-trained model\n",
    "| Item | Pricing |\n",
    "| --- | --- |\n",
    "| A | $219,382 |\n",
    "| B | $134,767 |\n",
    "| C | $221,137 |"
   ]
  },
  {
   "cell_type": "code",
   "execution_count": 1,
   "metadata": {},
   "outputs": [
    {
     "name": "stdout",
     "output_type": "stream",
     "text": [
      "219382 134767 221137\n"
     ]
    }
   ],
   "source": [
    "## Code pricing items from vendor's item data\n",
    "\n",
    "import joblib\n",
    "import warnings\n",
    "warnings.filterwarnings(action='ignore', category=UserWarning)\n",
    "\n",
    "model = joblib.load('ml_housing_model.joblib')\n",
    "scaler = joblib.load('ml_housing_scaler.joblib')\n",
    "\n",
    "# vendor A : 1717 sqft with quality rating 7/10.\n",
    "overall_qual, gr_liv_area, sale_condition = 7, 1717, [0,0,0,0,1,0] # option 5 (Family Sale)\n",
    "item_data = list(scaler.transform([[overall_qual,gr_liv_area]])[0])\n",
    "item_data.extend(sale_condition)\n",
    "vendor_A_price = model.predict([item_data]).astype(int)[0]\n",
    "\n",
    "# vendor B : 1500 sqft with quality rating 5/10.\n",
    "overall_qual, gr_liv_area, sale_condition = 5, 1500, [1,0,0,0,0,0] # option 1 (Normal Sale)\n",
    "item_data = list(scaler.transform([[overall_qual,gr_liv_area]])[0])\n",
    "item_data.extend(sale_condition)\n",
    "vendor_B_price = model.predict([item_data]).astype(int)[0]\n",
    "\n",
    "# vendor C : 2500 sqft with quality rating 6/10.\n",
    "overall_qual, gr_liv_area, sale_condition = 6, 2500, [0,0,1,0,0,0] # option 3 (Adjoining Land Purchase)\n",
    "item_data = list(scaler.transform([[overall_qual,gr_liv_area]])[0])\n",
    "item_data.extend(sale_condition)\n",
    "vendor_C_price = model.predict([item_data]).astype(int)[0]\n",
    "\n",
    "# prices\n",
    "print(vendor_A_price, vendor_B_price, vendor_C_price)"
   ]
  }
 ],
 "metadata": {
  "kernelspec": {
   "display_name": "demo",
   "language": "python",
   "name": "python3"
  },
  "language_info": {
   "codemirror_mode": {
    "name": "ipython",
    "version": 3
   },
   "file_extension": ".py",
   "mimetype": "text/x-python",
   "name": "python",
   "nbconvert_exporter": "python",
   "pygments_lexer": "ipython3",
   "version": "3.12.0"
  }
 },
 "nbformat": 4,
 "nbformat_minor": 5
}
